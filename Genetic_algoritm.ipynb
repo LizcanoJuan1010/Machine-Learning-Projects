{
  "nbformat": 4,
  "nbformat_minor": 0,
  "metadata": {
    "colab": {
      "private_outputs": true,
      "provenance": [],
      "include_colab_link": true
    },
    "kernelspec": {
      "name": "python3",
      "display_name": "Python 3"
    },
    "language_info": {
      "name": "python"
    }
  },
  "cells": [
    {
      "cell_type": "markdown",
      "metadata": {
        "id": "view-in-github",
        "colab_type": "text"
      },
      "source": [
        "<a href=\"https://colab.research.google.com/github/LizcanoJuan1010/Machine-Learning-Projects/blob/main/Genetic_algoritm.ipynb\" target=\"_parent\"><img src=\"https://colab.research.google.com/assets/colab-badge.svg\" alt=\"Open In Colab\"/></a>"
      ]
    },
    {
      "cell_type": "markdown",
      "source": [
        "#Taller\n",
        "* Juan Lizcano\n",
        "* David Santiago\n",
        "* Maria Del Corral"
      ],
      "metadata": {
        "id": "STvgfT0jSNtl"
      }
    },
    {
      "cell_type": "code",
      "execution_count": null,
      "metadata": {
        "id": "sJnCqMQd4ny8"
      },
      "outputs": [],
      "source": [
        "!pip install deap"
      ]
    },
    {
      "cell_type": "code",
      "source": [
        "import matplotlib.pyplot as plt\n",
        "import time\n",
        "import numpy as np\n",
        "from IPython import display\n",
        "import random\n",
        "from deap import base, creator, tools, algorithms"
      ],
      "metadata": {
        "id": "f4r1UMtN5A8p"
      },
      "execution_count": null,
      "outputs": []
    },
    {
      "cell_type": "code",
      "source": [],
      "metadata": {
        "id": "cSuVf05T5RkY"
      },
      "execution_count": null,
      "outputs": []
    },
    {
      "cell_type": "code",
      "source": [
        "def mostrar_laberinto():\n",
        "    ax = plt.gca();\n",
        "    ax.set_xticks(np.arange(0, 10, 1));\n",
        "    ax.set_yticks(np.arange(0, 10, 1));\n",
        "    #ax.set_xticklabels(np.arange(0, 10, 1));\n",
        "    #ax.set_yticklabels(np.arange(0, 10, 1));\n",
        "    ax.imshow(laberinto, cmap='binary')\n",
        "    plt.gca().invert_yaxis()\n",
        "    plt.plot(inicio[0], inicio[1], \"ro\", label=\"Inicio\")\n",
        "    plt.plot(salida[0], salida[1], \"go\", label=\"Salida\")\n",
        "    plt.grid(True, which='both')\n",
        "    plt.legend()\n",
        "    plt.show()\n",
        "\n",
        "\n",
        "def mover(pos, movimiento):\n",
        "    # Realiza el movimiento (x, y)\n",
        "    nueva_pos = (pos[0] + movimiento[0], pos[1] + movimiento[1])\n",
        "\n",
        "    # Verificar si está dentro de los límites y no es una pared\n",
        "    if 0 <= nueva_pos[0] < laberinto.shape[0] and 0 <= nueva_pos[1] < laberinto.shape[1]:\n",
        "        if laberinto[nueva_pos] == 0:  # No es una pared\n",
        "            return nueva_pos\n",
        "    return pos  # Si no es un movimiento válido, quedarse en el mismo lugar\n",
        "\n",
        "# Definir la función de aptitud\n",
        "def evaluar_individuo(individual):\n",
        "    pos = inicio\n",
        "    for movimiento in individual:\n",
        "        pos = mover(pos, MOVIMIENTOS[movimiento])\n",
        "\n",
        "    # Distancia a la salida\n",
        "    dist_salida = np.sqrt((pos[0] - salida[0])**2 + (pos[1] - salida[1])**2)\n",
        "    return dist_salida,  # Cuanto más cerca de 0, mejor\n",
        "\n",
        "def mostrar_ruta_pasos(individuo, s=0.01,laberinto=None, inicio=None, salida=None, grid=False):\n",
        "    generacion = individuo if isinstance(individuo[0], list) else [individuo]\n",
        "\n",
        "    NOMBRE_MOVIMIENTOS = ['arriba', 'abajo', 'izquierda', 'derecha']\n",
        "    #pos = inicio\n",
        "    #camino = [pos]\n",
        "    #nombre_camino = ['nada']\n",
        "    #numero_movimiento = ['-']\n",
        "\n",
        "    # Clear the previous plot\n",
        "    plt.clf()\n",
        "\n",
        "\n",
        "    fig, ax = plt.subplots()\n",
        "    #ax.invert_yaxis()\n",
        "    for ind in generacion:\n",
        "        pos = inicio\n",
        "        camino = [pos]\n",
        "        for i, movimiento in enumerate(ind):\n",
        "            pos = mover(pos, MOVIMIENTOS[movimiento])\n",
        "\n",
        "            camino.append(pos)\n",
        "            #nombre_camino.append(NOMBRE_MOVIMIENTOS[movimiento])\n",
        "            #numero_movimiento.append(movimiento)\n",
        "\n",
        "            # Convert to NumPy array for plotting\n",
        "            camino_np = np.array(camino)\n",
        "\n",
        "\n",
        "            # Plot the path up to the current step\n",
        "            ax.clear()\n",
        "            if grid:\n",
        "              ax.set_xticks(np.arange(0, laberinto.shape[1], 1));\n",
        "              ax.set_yticks(np.arange(0, laberinto.shape[1], 1));\n",
        "              #ax.set_xticklabels(np.arange(0, 10, 1));\n",
        "              #ax.set_yticklabels(np.arange(0, 10, 1));\n",
        "              ax.grid(grid, which='both')\n",
        "            ax.set_ylim(-1, laberinto.shape[1])\n",
        "            ax.set_xlim(-1, laberinto.shape[0])\n",
        "            ax.imshow(laberinto.T, cmap='binary')\n",
        "            ax.plot(camino_np[:, 0], camino_np[:, 1], \"r-\")\n",
        "            ax.plot(-1, -1, \"ro\", label=f\"{i+1}\")\n",
        "            ax.plot(inicio[0], inicio[1], \"bo\", label=\"Inicio\")  # Start point\n",
        "            ax.plot(salida[0], salida[1], \"go\", label=\"Salida\")   # End point\n",
        "            #ax.plot(pos_anterior[0], pos_anterior[1], \"bo\", label=f\"pos-ant {pos_anterior}\", alpha=0.6)   # End point\n",
        "            ax.plot(pos[0], pos[1], \"bx\", label=f\"pos {pos}\")   # End point\n",
        "            plt.xlabel(\"Eje X\")\n",
        "            plt.ylabel(\"Eje Y\")\n",
        "\n",
        "            ax.legend()\n",
        "\n",
        "            # Update the display\n",
        "\n",
        "            display.clear_output(wait=True)\n",
        "            display.display(fig)\n",
        "\n",
        "            time.sleep(s)\n",
        "    plt.close(fig)  # Close the figure to prevent further updates\n",
        "    #plt.show()  # Keep the final plot displayed"
      ],
      "metadata": {
        "id": "K_Upe3OX40hI"
      },
      "execution_count": null,
      "outputs": []
    },
    {
      "cell_type": "code",
      "source": [
        "\n",
        "\n",
        "# Representamos el laberinto como una matriz 10x10\n",
        "laberinto = np.zeros((10, 10))\n",
        "# Poner paredes (1 representa una pared)\n",
        "laberinto[0:9, 5] = 1  # Pared vertical\n",
        "laberinto[5, 1:5] = 1  # Pared horizontal\n",
        "#laberinto = laberinto.T\n",
        "\n",
        "# Definir la posición inicial y final\n",
        "inicio = (0, 0)\n",
        "salida = (9, 9)\n",
        "\n",
        "# Mostrar el laberinto\n",
        "mostrar_laberinto()"
      ],
      "metadata": {
        "id": "yUHFIgHc4rH6"
      },
      "execution_count": null,
      "outputs": []
    },
    {
      "cell_type": "code",
      "source": [
        "# Movimientos posibles\n",
        "#              (arriba, abajo, izquierda, derecha)\n",
        "MOVIMIENTOS = [(0, 1), (0, -1), (-1, 0), (1, 0)]\n",
        "\n",
        "# Crear la estructura del algoritmo genético\n",
        "creator.create(\"FitnessMin\", base.Fitness, weights=(-1.0,))  # Minimizar la distancia\n",
        "creator.create(\"Individual\", list, fitness=creator.FitnessMin)\n",
        "\n",
        "toolbox = base.Toolbox()\n",
        "toolbox.register(\"attr_move\", random.randint, 0, len(MOVIMIENTOS)-1)\n",
        "toolbox.register(\"individual\", tools.initRepeat, creator.Individual, toolbox.attr_move, n=50)  # 50 movimientos\n",
        "toolbox.register(\"population\", tools.initRepeat, list, toolbox.individual)\n",
        "\n",
        "toolbox.register(\"mate\", tools.cxTwoPoint)\n",
        "toolbox.register(\"mutate\", tools.mutShuffleIndexes, indpb=0.1)\n",
        "toolbox.register(\"select\", tools.selTournament, tournsize=3)\n",
        "toolbox.register(\"evaluate\", evaluar_individuo)\n"
      ],
      "metadata": {
        "id": "6pMM-AWi54Wy"
      },
      "execution_count": null,
      "outputs": []
    },
    {
      "cell_type": "code",
      "source": [
        "# Crear la población inicial\n",
        "pop = toolbox.population(n=10)  # 100 individuos\n",
        "\n",
        "# Ejecutar el algoritmo genético\n",
        "resultados, log = algorithms.eaSimple(pop, toolbox, cxpb=0.5, mutpb=0.2, ngen=10, verbose=False)"
      ],
      "metadata": {
        "id": "Gh6u7a-U6R3n"
      },
      "execution_count": null,
      "outputs": []
    },
    {
      "cell_type": "code",
      "source": [
        "mostrar_ruta_pasos(resultados[0], laberinto=laberinto, inicio=inicio, salida=salida, grid=True)"
      ],
      "metadata": {
        "id": "_vkfoCGF5s-z"
      },
      "execution_count": null,
      "outputs": []
    },
    {
      "cell_type": "code",
      "source": [
        "from deap import tools\n",
        "# Variables para el registro de la evolución\n",
        "stats = tools.Statistics(key=lambda ind: ind.fitness.values)\n",
        "stats.register(\"min\", np.min)\n",
        "stats.register(\"avg\", np.mean)\n",
        "\n",
        "logbook = tools.Logbook()\n",
        "\n",
        "# Crear la población inicial\n",
        "pop = toolbox.population(n=100)  # 100 individuos\n",
        "\n",
        "# Ejecutar el algoritmo genético\n",
        "resultados, logbook = algorithms.eaSimple(pop, toolbox, cxpb=0.5, mutpb=0.2, ngen=50,stats=stats, verbose=False)\n",
        "\n",
        "# Encontrar el mejor individuo\n",
        "mejor_individuo = tools.selBest(pop, 1)#[0]\n",
        "mostrar_ruta_pasos(mejor_individuo, laberinto=laberinto, inicio=inicio, salida=salida, grid=True)"
      ],
      "metadata": {
        "id": "5pzar7v_5zUV"
      },
      "execution_count": null,
      "outputs": []
    },
    {
      "cell_type": "code",
      "source": [
        "# Extraer las estadísticas de cada generación\n",
        "generaciones = logbook.select(\"gen\")\n",
        "minimos = logbook.select(\"min\")\n",
        "promedios = logbook.select(\"avg\")\n",
        "\n",
        "# Graficar la evolución\n",
        "import matplotlib.pyplot as plt\n",
        "\n",
        "plt.plot(generaciones, minimos, label=\"Mejor aptitud\")\n",
        "plt.plot(generaciones, promedios, label=\"Aptitud promedio\", linestyle=\"--\")\n",
        "plt.xlabel(\"Generaciones\")\n",
        "plt.ylabel(\"Aptitud\")\n",
        "plt.title(\"Evolución del Algoritmo Genético\")\n",
        "plt.legend()\n",
        "plt.show()"
      ],
      "metadata": {
        "id": "d8ScTvRx69k8"
      },
      "execution_count": null,
      "outputs": []
    },
    {
      "cell_type": "markdown",
      "source": [
        "#Taller Algoritmo Genetico"
      ],
      "metadata": {
        "id": "rvd3zHeX4NMb"
      }
    },
    {
      "cell_type": "code",
      "source": [
        "# Crear un laberinto de 10x10\n",
        "laberinto = np.zeros((20, 20))\n",
        "inicio = (0, 0)\n",
        "salida = (0, 19)\n",
        "\n",
        "for i in range(1, 19, 4):\n",
        "    laberinto[0:19,i] = 1\n",
        "for i in range(3, 20, 4):\n",
        "    laberinto[1:20,i] = 1"
      ],
      "metadata": {
        "id": "CRkBnM3S7Kze"
      },
      "execution_count": null,
      "outputs": []
    },
    {
      "cell_type": "code",
      "source": [
        "def mostrar_laberinto():\n",
        "    ax = plt.gca();\n",
        "    ax.set_xticks(np.arange(0, 20, 1));\n",
        "    ax.set_yticks(np.arange(0, 20, 1));\n",
        "    #ax.set_xticklabels(np.arange(0, 10, 1));\n",
        "    #ax.set_yticklabels(np.arange(0, 10, 1));\n",
        "    ax.imshow(laberinto, cmap='binary')\n",
        "    plt.gca().invert_yaxis()\n",
        "    plt.plot(inicio[0], inicio[1], \"ro\", label=\"Inicio\")\n",
        "    plt.plot(salida[0], salida[1], \"go\", label=\"Salida\")\n",
        "    plt.grid(True, which='both')\n",
        "    plt.legend()\n",
        "    plt.show()\n"
      ],
      "metadata": {
        "id": "xC6LYkqG28oT"
      },
      "execution_count": null,
      "outputs": []
    },
    {
      "cell_type": "code",
      "source": [
        "mostrar_laberinto()"
      ],
      "metadata": {
        "id": "epxDoPxT1jV9"
      },
      "execution_count": null,
      "outputs": []
    },
    {
      "cell_type": "code",
      "source": [
        "def evaluar_individuo(individual):\n",
        "    pos = inicio\n",
        "    for movimiento in individual:\n",
        "        pos = mover(pos, MOVIMIENTOS[movimiento])\n",
        "\n",
        "    # Distancia a la salida\n",
        "    dist_salida = np.sqrt((pos[0] - salida[0])**2 + (pos[1] - salida[1])**2)\n",
        "    # Inversa de la distancia al inicio (para maximizarla al minimizar)\n",
        "    dist_inicio = 1 / (np.sqrt((pos[0] - inicio[0])**2 + (pos[1] - inicio[1])**2) + 1e-10)  #Evita división por 0\n",
        "\n",
        "    return dist_salida,dist_inicio  # Cuanto más cerca de 0, mejor\n",
        "\n",
        "\n",
        "    ####En caso de que queramos tener ambas cosas aqui se deberia modificar"
      ],
      "metadata": {
        "id": "-3FgPK_l96Kh"
      },
      "execution_count": null,
      "outputs": []
    },
    {
      "cell_type": "code",
      "source": [
        "# Movimientos posibles\n",
        "#              (arriba, abajo, izquierda, derecha)\n",
        "MOVIMIENTOS = [(0, 1), (0, -1), (-1, 0), (1, 0)]\n",
        "\n",
        "# Crear la estructura del algoritmo genético\n",
        "creator.create(\"FitnessMultiObj\", base.Fitness, weights=(-1,-1))  # Minimizar la distancia ////AQUI VOY A CREAR 2 COSAS MINIMIZAR DISTNACIA SALIDA Y MAXIMIZAR LA DISTANCIA DEL INICIO SERIA creator.create(\"FitnessMultiObj\", base.Fitness, weights=(-1.0, 1.0))\n",
        "creator.create(\"Individual\", list, fitness=creator.FitnessMultiObj)\n",
        "\n",
        "toolbox = base.Toolbox()\n",
        "toolbox.register(\"attr_move\", random.randint, 0, len(MOVIMIENTOS)-1)\n",
        "toolbox.register(\"individual\", tools.initRepeat, creator.Individual, toolbox.attr_move, n=200)  # 50 movimientos\n",
        "toolbox.register(\"population\", tools.initRepeat, list, toolbox.individual)\n",
        "\n",
        "toolbox.register(\"mate\", tools.cxTwoPoint)\n",
        "toolbox.register(\"mutate\", tools.mutShuffleIndexes, indpb=0.1)\n",
        "toolbox.register(\"select\", tools.selNSGA2)\n",
        "toolbox.register(\"evaluate\", evaluar_individuo)"
      ],
      "metadata": {
        "id": "19gYWzHA4Syr"
      },
      "execution_count": null,
      "outputs": []
    },
    {
      "cell_type": "code",
      "source": [
        "from deap import tools\n",
        "# Variables para el registro de la evolución\n",
        "stats = tools.Statistics(key=lambda ind: ind.fitness.values)\n",
        "stats.register(\"min\", np.min)\n",
        "stats.register(\"avg\", np.mean)\n",
        "\n",
        "logbook = tools.Logbook()\n",
        "\n",
        "# Crear la población inicial\n",
        "pop = toolbox.population(n=500)  # 100 individuos\n",
        "\n",
        "# Ejecutar el algoritmo genético\n",
        "resultados, logbook = algorithms.eaSimple(pop, toolbox, cxpb=0.5, mutpb=0.2, ngen=500,stats=stats, verbose=True)\n",
        "\n",
        "# Encontrar el mejor individuo\n",
        "mejor_individuo = tools.selBest(pop, 1)#[0]\n",
        "mostrar_ruta_pasos(mejor_individuo, laberinto=laberinto, inicio=inicio, salida=salida, grid=True)"
      ],
      "metadata": {
        "id": "3QudG36O-m73"
      },
      "execution_count": null,
      "outputs": []
    },
    {
      "cell_type": "code",
      "source": [],
      "metadata": {
        "id": "4nLEp9-eNi-1"
      },
      "execution_count": null,
      "outputs": []
    },
    {
      "source": [
        "def evaluar_individuo(individual):\n",
        "    pos = inicio\n",
        "    camino = [pos]  # Lista para almacenar las posiciones visitadas\n",
        "    valor_y_total = 0  # Acumulador para el valor total de y\n",
        "\n",
        "    for movimiento in individual:\n",
        "        pos = mover(pos, MOVIMIENTOS[movimiento])\n",
        "\n",
        "        # Verificar si la posición es nueva\n",
        "        if pos not in camino:\n",
        "            camino.append(pos)\n",
        "            valor_y_total += pos[1]  # Sumar el valor de y si es una posición nueva\n",
        "\n",
        "    # 1. Número de posiciones únicas visitadas (maximizar)\n",
        "    num_posiciones_unicas = len(camino) -1 #se resta uno por la posicion de inicio\n",
        "\n",
        "    # 2. Valor total de y (maximizar)\n",
        "    #valor_y_total = sum([p[1] for p in camino])  #Ya esta calculado en el ciclo anterior\n",
        "\n",
        "    # Devolver los dos valores como una tupla\n",
        "    return num_posiciones_unicas, valor_y_total"
      ],
      "cell_type": "code",
      "metadata": {
        "id": "ycKvhwUoNlan"
      },
      "execution_count": null,
      "outputs": []
    },
    {
      "cell_type": "code",
      "source": [
        "# Movimientos posibles\n",
        "#              (arriba, abajo, izquierda, derecha)\n",
        "MOVIMIENTOS = [(0, 1), (0, -1), (-1, 0), (1, 0)]\n",
        "\n",
        "# Crear la estructura del algoritmo genético\n",
        "creator.create(\"FitnessMultiObj\", base.Fitness, weights=(1,1))  # Minimizar la distancia ////AQUI VOY A CREAR 2 COSAS MINIMIZAR DISTNACIA SALIDA Y MAXIMIZAR LA DISTANCIA DEL INICIO SERIA creator.create(\"FitnessMultiObj\", base.Fitness, weights=(-1.0, 1.0))\n",
        "creator.create(\"Individual\", list, fitness=creator.FitnessMultiObj)\n",
        "\n",
        "toolbox = base.Toolbox()\n",
        "toolbox.register(\"attr_move\", random.randint, 0, len(MOVIMIENTOS)-1)\n",
        "toolbox.register(\"individual\", tools.initRepeat, creator.Individual, toolbox.attr_move, n=800)  # 50 movimientos\n",
        "toolbox.register(\"population\", tools.initRepeat, list, toolbox.individual)\n",
        "\n",
        "toolbox.register(\"mate\", tools.cxTwoPoint)\n",
        "toolbox.register(\"mutate\", tools.mutShuffleIndexes, indpb=0.1)\n",
        "toolbox.register(\"select\", tools.selNSGA2)\n",
        "toolbox.register(\"evaluate\", evaluar_individuo)"
      ],
      "metadata": {
        "id": "X-VTRQD5NoW2"
      },
      "execution_count": null,
      "outputs": []
    },
    {
      "cell_type": "code",
      "source": [
        "from deap import tools\n",
        "# Variables para el registro de la evolución\n",
        "stats = tools.Statistics(key=lambda ind: ind.fitness.values)\n",
        "stats.register(\"min\", np.min)\n",
        "stats.register(\"avg\", np.mean)\n",
        "\n",
        "logbook = tools.Logbook()\n",
        "\n",
        "# Crear la población inicial\n",
        "pop = toolbox.population(n=500)  # 100 individuos\n",
        "\n",
        "# Ejecutar el algoritmo genético\n",
        "resultados, logbook = algorithms.eaSimple(pop, toolbox, cxpb=0.5, mutpb=0.2, ngen=500,stats=stats, verbose=True)\n",
        "\n",
        "# Encontrar el mejor individuo\n",
        "mejor_individuo = tools.selBest(pop, 1)#[0]\n",
        "mostrar_ruta_pasos(mejor_individuo, laberinto=laberinto, inicio=inicio, salida=salida, grid=True)"
      ],
      "metadata": {
        "id": "cv-KcHVbNtzN"
      },
      "execution_count": null,
      "outputs": []
    },
    {
      "cell_type": "code",
      "source": [
        "# Movimientos posibles\n",
        "#              (arriba, abajo, izquierda, derecha)\n",
        "MOVIMIENTOS = [(0, 1), (0, -1), (-1, 0), (1, 0)]\n",
        "\n",
        "# Crear la estructura del algoritmo genético\n",
        "creator.create(\"FitnessMultiObj\", base.Fitness, weights=(1,1))  # Minimizar la distancia ////AQUI VOY A CREAR 2 COSAS MINIMIZAR DISTNACIA SALIDA Y MAXIMIZAR LA DISTANCIA DEL INICIO SERIA creator.create(\"FitnessMultiObj\", base.Fitness, weights=(-1.0, 1.0))\n",
        "creator.create(\"Individual\", list, fitness=creator.FitnessMultiObj)\n",
        "\n",
        "toolbox = base.Toolbox()\n",
        "toolbox.register(\"attr_move\", random.randint, 0, len(MOVIMIENTOS)-1)\n",
        "toolbox.register(\"individual\", tools.initRepeat, creator.Individual, toolbox.attr_move, n=2400)  # 50 movimientos\n",
        "toolbox.register(\"population\", tools.initRepeat, list, toolbox.individual)\n",
        "\n",
        "toolbox.register(\"mate\", tools.cxTwoPoint)\n",
        "toolbox.register(\"mutate\", tools.mutShuffleIndexes, indpb=0.1)\n",
        "toolbox.register(\"select\", tools.selNSGA2)\n",
        "toolbox.register(\"evaluate\", evaluar_individuo)"
      ],
      "metadata": {
        "id": "Fv43nyOHSuqq"
      },
      "execution_count": null,
      "outputs": []
    },
    {
      "cell_type": "code",
      "source": [
        "from deap import tools\n",
        "# Variables para el registro de la evolución\n",
        "stats = tools.Statistics(key=lambda ind: ind.fitness.values)\n",
        "stats.register(\"max\", np.max)\n",
        "stats.register(\"avg\", np.mean)\n",
        "\n",
        "logbook = tools.Logbook()\n",
        "\n",
        "# Crear la población inicial\n",
        "pop = toolbox.population(n=500)  # 100 individuos\n",
        "\n",
        "# Ejecutar el algoritmo genético\n",
        "resultados, logbook = algorithms.eaSimple(pop, toolbox, cxpb=0.5, mutpb=0.2, ngen=500,stats=stats, verbose=True)\n",
        "\n",
        "# Encontrar el mejor individuo\n",
        "mejor_individuo = tools.selBest(pop, 1)#[0]\n",
        "mostrar_ruta_pasos(mejor_individuo, laberinto=laberinto, inicio=inicio, salida=salida, grid=True)"
      ],
      "metadata": {
        "id": "kaANGSIrSzL0"
      },
      "execution_count": null,
      "outputs": []
    },
    {
      "source": [
        "def evaluar_individuo(individual):\n",
        "    pos = inicio\n",
        "    camino = [pos]  # Lista para almacenar las posiciones visitadas\n",
        "    penalizacion = 0  # Contador de penalizaciones por visitar la misma posición\n",
        "\n",
        "    for movimiento in individual:\n",
        "        pos = mover(pos, MOVIMIENTOS[movimiento])\n",
        "\n",
        "        # Verificar si la posición es nueva\n",
        "        if pos not in camino:\n",
        "            camino.append(pos)\n",
        "        else:\n",
        "            penalizacion += 1  # Penalizar si la posición ya fue visitada\n",
        "\n",
        "    # 1. Número de posiciones únicas visitadas (maximizar)\n",
        "    num_posiciones_unicas = len(camino) - 1 #se resta uno por la posicion de inicio\n",
        "\n",
        "    # 2. Penalización por visitar la misma posición (minimizar)\n",
        "    # Ya está calculada en el ciclo anterior\n",
        "\n",
        "\n",
        "    # Devolver los dos valores como una tupla, con la penalización como negativo\n",
        "    return num_posiciones_unicas, -penalizacion"
      ],
      "cell_type": "code",
      "metadata": {
        "id": "FIC4OiSqZqH_"
      },
      "execution_count": null,
      "outputs": []
    },
    {
      "cell_type": "code",
      "source": [
        "#              (arriba, abajo, izquierda, derecha)\n",
        "MOVIMIENTOS = [(0, 1), (0, -1), (-1, 0), (1, 0)]\n",
        "\n",
        "# Crear la estructura del algoritmo genético\n",
        "creator.create(\"FitnessMultiObj\", base.Fitness, weights=(1,1))  # Minimizar la distancia ////AQUI VOY A CREAR 2 COSAS MINIMIZAR DISTNACIA SALIDA Y MAXIMIZAR LA DISTANCIA DEL INICIO SERIA creator.create(\"FitnessMultiObj\", base.Fitness, weights=(-1.0, 1.0))\n",
        "creator.create(\"Individual\", list, fitness=creator.FitnessMultiObj)\n",
        "\n",
        "toolbox = base.Toolbox()\n",
        "toolbox.register(\"attr_move\", random.randint, 0, len(MOVIMIENTOS)-1)\n",
        "toolbox.register(\"individual\", tools.initRepeat, creator.Individual, toolbox.attr_move, n=700)  # 50 movimientos\n",
        "toolbox.register(\"population\", tools.initRepeat, list, toolbox.individual)\n",
        "\n",
        "toolbox.register(\"mate\", tools.cxTwoPoint)\n",
        "toolbox.register(\"mutate\", tools.mutShuffleIndexes, indpb=0.1)\n",
        "toolbox.register(\"select\", tools.selNSGA2)\n",
        "toolbox.register(\"evaluate\", evaluar_individuo)"
      ],
      "metadata": {
        "id": "mg62_XKMZxP4"
      },
      "execution_count": null,
      "outputs": []
    },
    {
      "cell_type": "code",
      "source": [
        "from deap import tools\n",
        "# Variables para el registro de la evolución\n",
        "stats = tools.Statistics(key=lambda ind: ind.fitness.values)\n",
        "stats.register(\"max\", np.max)\n",
        "stats.register(\"avg\", np.mean)\n",
        "\n",
        "logbook = tools.Logbook()\n",
        "\n",
        "# Crear la población inicial\n",
        "pop = toolbox.population(n=200)  # 100 individuos\n",
        "\n",
        "# Ejecutar el algoritmo genético\n",
        "resultados, logbook = algorithms.eaSimple(pop, toolbox, cxpb=0.5, mutpb=0.2, ngen=200,stats=stats, verbose=True)\n",
        "\n",
        "# Encontrar el mejor individuo\n",
        "mejor_individuo = tools.selBest(pop, 1)#[0]\n",
        "mostrar_ruta_pasos(mejor_individuo, laberinto=laberinto, inicio=inicio, salida=salida, grid=True)"
      ],
      "metadata": {
        "id": "g9U0UwtZZ5sG"
      },
      "execution_count": null,
      "outputs": []
    },
    {
      "cell_type": "code",
      "source": [
        "def evaluar_individuo(individual):\n",
        "    pos = inicio\n",
        "    camino = [pos]  # Lista para almacenar las posiciones visitadas\n",
        "    penalizacion = 0  # Contador de penalizaciones por visitar la misma posición\n",
        "\n",
        "    for movimiento in individual:\n",
        "        pos = mover(pos, MOVIMIENTOS[movimiento])\n",
        "\n",
        "        # Verificar si la posición es nueva\n",
        "        if pos not in camino:\n",
        "            camino.append(pos)\n",
        "\n",
        "    # 1. Número de posiciones únicas visitadas (maximizar)\n",
        "    num_posiciones_unicas = len(camino) - 1 #se resta uno por la posicion de inicio\n",
        "\n",
        "    return num_posiciones_unicas,"
      ],
      "metadata": {
        "id": "sQs1VTB8cTwJ"
      },
      "execution_count": null,
      "outputs": []
    },
    {
      "cell_type": "code",
      "source": [
        "MOVIMIENTOS = [(0, 1), (0, -1), (-1, 0), (1, 0)]\n",
        "\n",
        "# Crear la estructura del algoritmo genético\n",
        "creator.create(\"FitnessMax\", base.Fitness, weights=(1.0,))  # Minimizar la distancia\n",
        "creator.create(\"Individual\", list, fitness=creator.FitnessMax)\n",
        "\n",
        "toolbox = base.Toolbox()\n",
        "toolbox.register(\"attr_move\", random.randint, 0, len(MOVIMIENTOS)-1)\n",
        "toolbox.register(\"individual\", tools.initRepeat, creator.Individual, toolbox.attr_move, n=1000)  # 50 movimientos\n",
        "toolbox.register(\"population\", tools.initRepeat, list, toolbox.individual)\n",
        "\n",
        "toolbox.register(\"mate\", tools.cxTwoPoint)\n",
        "toolbox.register(\"mutate\", tools.mutShuffleIndexes, indpb=0.1)\n",
        "toolbox.register(\"select\", tools.selTournament, tournsize=3)\n",
        "toolbox.register(\"evaluate\", evaluar_individuo)"
      ],
      "metadata": {
        "id": "XT-pUlSZcvbI"
      },
      "execution_count": null,
      "outputs": []
    },
    {
      "cell_type": "code",
      "source": [
        "from deap import tools\n",
        "# Variables para el registro de la evolución\n",
        "stats = tools.Statistics(key=lambda ind: ind.fitness.values)\n",
        "stats.register(\"max\", np.max)\n",
        "stats.register(\"avg\", np.mean)\n",
        "\n",
        "logbook = tools.Logbook()\n",
        "\n",
        "# Crear la población inicial\n",
        "pop = toolbox.population(n=200)  # 100 individuos\n",
        "\n",
        "# Ejecutar el algoritmo genético\n",
        "resultados, logbook = algorithms.eaSimple(pop, toolbox, cxpb=0.5, mutpb=0.2, ngen=200,stats=stats, verbose=True)\n",
        "\n",
        "# Encontrar el mejor individuo\n",
        "mejor_individuo = tools.selBest(pop, 1)#[0]\n",
        "mostrar_ruta_pasos(mejor_individuo, laberinto=laberinto, inicio=inicio, salida=salida, grid=True)"
      ],
      "metadata": {
        "id": "71j0UxE-dN4X"
      },
      "execution_count": null,
      "outputs": []
    },
    {
      "cell_type": "code",
      "source": [
        "from deap import tools\n",
        "# Variables para el registro de la evolución\n",
        "stats = tools.Statistics(key=lambda ind: ind.fitness.values)\n",
        "stats.register(\"max\", np.max)\n",
        "stats.register(\"avg\", np.mean)\n",
        "\n",
        "logbook = tools.Logbook()\n",
        "\n",
        "# Crear la población inicial\n",
        "pop = toolbox.population(n=500)  # 100 individuos\n",
        "\n",
        "# Ejecutar el algoritmo genético\n",
        "resultados, logbook = algorithms.eaSimple(pop, toolbox, cxpb=0.5, mutpb=0.2, ngen=500,stats=stats, verbose=True)\n",
        "\n",
        "# Encontrar el mejor individuo\n",
        "mejor_individuo = tools.selBest(pop, 1)#[0]\n",
        "mostrar_ruta_pasos(mejor_individuo, laberinto=laberinto, inicio=inicio, salida=salida, grid=True)"
      ],
      "metadata": {
        "id": "HqGTaeDEgCsu"
      },
      "execution_count": null,
      "outputs": []
    },
    {
      "cell_type": "code",
      "source": [
        "MOVIMIENTOS = [(0, 1), (0, -1), (-1, 0), (1, 0)]\n",
        "\n",
        "# Crear la estructura del algoritmo genético\n",
        "creator.create(\"FitnessMax\", base.Fitness, weights=(1.0,))  # Minimizar la distancia\n",
        "creator.create(\"Individual\", list, fitness=creator.FitnessMax)\n",
        "\n",
        "toolbox = base.Toolbox()\n",
        "toolbox.register(\"attr_move\", random.randint, 0, len(MOVIMIENTOS)-1)\n",
        "toolbox.register(\"individual\", tools.initRepeat, creator.Individual, toolbox.attr_move, n=1100)  # 50 movimientos\n",
        "toolbox.register(\"population\", tools.initRepeat, list, toolbox.individual)\n",
        "\n",
        "toolbox.register(\"mate\", tools.cxTwoPoint)\n",
        "toolbox.register(\"mutate\", tools.mutShuffleIndexes, indpb=0.1)\n",
        "toolbox.register(\"select\", tools.selTournament, tournsize=3)\n",
        "toolbox.register(\"evaluate\", evaluar_individuo)"
      ],
      "metadata": {
        "id": "-LP87spciqZO"
      },
      "execution_count": null,
      "outputs": []
    },
    {
      "cell_type": "code",
      "source": [
        "from deap import tools\n",
        "# Variables para el registro de la evolución\n",
        "stats = tools.Statistics(key=lambda ind: ind.fitness.values)\n",
        "stats.register(\"max\", np.max)\n",
        "stats.register(\"avg\", np.mean)\n",
        "\n",
        "logbook = tools.Logbook()\n",
        "\n",
        "# Crear la población inicial\n",
        "pop = toolbox.population(n=900)  # 100 individuos\n",
        "\n",
        "# Ejecutar el algoritmo genético\n",
        "resultados, logbook = algorithms.eaSimple(pop, toolbox, cxpb=0.5, mutpb=0.2, ngen=900,stats=stats, verbose=True)\n",
        "\n",
        "# Encontrar el mejor individuo\n",
        "mejor_individuo = tools.selBest(pop, 1)#[0]\n",
        "mostrar_ruta_pasos(mejor_individuo, laberinto=laberinto, inicio=inicio, salida=salida, grid=True)"
      ],
      "metadata": {
        "id": "3-_bmT09i1bs"
      },
      "execution_count": null,
      "outputs": []
    },
    {
      "cell_type": "code",
      "source": [
        "MOVIMIENTOS = [(0, 1), (0, -1), (-1, 0), (1, 0)]\n",
        "\n",
        "# Crear la estructura del algoritmo genético\n",
        "creator.create(\"FitnessMax\", base.Fitness, weights=(1.0,))  # Minimizar la distancia\n",
        "creator.create(\"Individual\", list, fitness=creator.FitnessMax)\n",
        "\n",
        "toolbox = base.Toolbox()\n",
        "toolbox.register(\"attr_move\", random.randint, 0, len(MOVIMIENTOS)-1)\n",
        "toolbox.register(\"individual\", tools.initRepeat, creator.Individual, toolbox.attr_move, n=2000)  # 50 movimientos\n",
        "toolbox.register(\"population\", tools.initRepeat, list, toolbox.individual)\n",
        "\n",
        "toolbox.register(\"mate\", tools.cxTwoPoint)\n",
        "toolbox.register(\"mutate\", tools.mutShuffleIndexes, indpb=0.3)\n",
        "toolbox.register(\"select\", tools.selTournament, tournsize=3)\n",
        "toolbox.register(\"evaluate\", evaluar_individuo)"
      ],
      "metadata": {
        "id": "E4EUm-obo8ZT"
      },
      "execution_count": null,
      "outputs": []
    },
    {
      "cell_type": "code",
      "source": [
        "from deap import tools\n",
        "# Variables para el registro de la evolución\n",
        "stats = tools.Statistics(key=lambda ind: ind.fitness.values)\n",
        "stats.register(\"max\", np.max)\n",
        "stats.register(\"avg\", np.mean)\n",
        "\n",
        "logbook = tools.Logbook()\n",
        "\n",
        "# Crear la población inicial\n",
        "pop = toolbox.population(n=800)  # 100 individuos\n",
        "\n",
        "# Ejecutar el algoritmo genético\n",
        "resultados, logbook = algorithms.eaSimple(pop, toolbox, cxpb=0.5, mutpb=0.2, ngen=50,stats=stats, verbose=True)\n",
        "\n",
        "# Encontrar el mejor individuo\n",
        "mejor_individuo = tools.selBest(pop, 1)#[0]\n",
        "mostrar_ruta_pasos(mejor_individuo, laberinto=laberinto, inicio=inicio, salida=salida, grid=True)"
      ],
      "metadata": {
        "id": "TOV_O51UsKgi"
      },
      "execution_count": null,
      "outputs": []
    },
    {
      "cell_type": "code",
      "source": [
        "MOVIMIENTOS = [(0, 1), (0, -1), (-1, 0), (1, 0)]\n",
        "\n",
        "# Crear la estructura del algoritmo genético\n",
        "creator.create(\"FitnessMax\", base.Fitness, weights=(1.0,))  # Minimizar la distancia\n",
        "creator.create(\"Individual\", list, fitness=creator.FitnessMax)\n",
        "\n",
        "toolbox = base.Toolbox()\n",
        "toolbox.register(\"attr_move\", random.randint, 0, len(MOVIMIENTOS)-1)\n",
        "toolbox.register(\"individual\", tools.initRepeat, creator.Individual, toolbox.attr_move, n=1000)  # 50 movimientos\n",
        "toolbox.register(\"population\", tools.initRepeat, list, toolbox.individual)\n",
        "\n",
        "toolbox.register(\"mate\", tools.cxTwoPoint)\n",
        "toolbox.register(\"mutate\", tools.mutShuffleIndexes, indpb=0.2)\n",
        "toolbox.register(\"select\", tools.selTournament, tournsize=3)\n",
        "toolbox.register(\"evaluate\", evaluar_individuo)"
      ],
      "metadata": {
        "id": "_-9vil0_yPE7"
      },
      "execution_count": null,
      "outputs": []
    },
    {
      "cell_type": "code",
      "source": [
        "from deap import tools\n",
        "# Variables para el registro de la evolución\n",
        "stats = tools.Statistics(key=lambda ind: ind.fitness.values)\n",
        "stats.register(\"max\", np.max)\n",
        "stats.register(\"avg\", np.mean)\n",
        "\n",
        "logbook = tools.Logbook()\n",
        "\n",
        "# Crear la población inicial\n",
        "pop = toolbox.population(n=1000)  # 100 individuos\n",
        "\n",
        "# Ejecutar el algoritmo genético\n",
        "resultados, logbook = algorithms.eaSimple(pop, toolbox, cxpb=0.5, mutpb=0.2, ngen=1000,stats=stats, verbose=True)\n",
        "\n",
        "# Encontrar el mejor individuo\n",
        "mejor_individuo = tools.selBest(pop, 1)#[0]\n",
        "mostrar_ruta_pasos(mejor_individuo, laberinto=laberinto, inicio=inicio, salida=salida, grid=True)"
      ],
      "metadata": {
        "id": "st-7eyedyYbw"
      },
      "execution_count": null,
      "outputs": []
    },
    {
      "cell_type": "code",
      "source": [
        "from deap import tools\n",
        "# Variables para el registro de la evolución\n",
        "stats = tools.Statistics(key=lambda ind: ind.fitness.values)\n",
        "stats.register(\"max\", np.max)\n",
        "stats.register(\"avg\", np.mean)\n",
        "\n",
        "logbook = tools.Logbook()\n",
        "\n",
        "# Crear la población inicial\n",
        "pop = toolbox.population(n=2000)  # 100 individuos\n",
        "\n",
        "# Ejecutar el algoritmo genético\n",
        "resultados, logbook = algorithms.eaSimple(pop, toolbox, cxpb=0.5, mutpb=0.2, ngen=2500,stats=stats, verbose=True)\n",
        "\n",
        "# Encontrar el mejor individuo\n",
        "mejor_individuo = tools.selBest(pop, 1)#[0]\n",
        "mostrar_ruta_pasos(mejor_individuo, laberinto=laberinto, inicio=inicio, salida=salida, grid=True)"
      ],
      "metadata": {
        "id": "rxyS_O2d6WuY"
      },
      "execution_count": null,
      "outputs": []
    },
    {
      "cell_type": "code",
      "source": [
        "def evaluar_individuo(individual):\n",
        "    pos = inicio\n",
        "    camino = [pos]  # Lista para almacenar las posiciones visitadas\n",
        "    penalizacion = 0  # Contador de penalizaciones por visitar la misma posición\n",
        "\n",
        "    for movimiento in individual:\n",
        "        pos = mover(pos, MOVIMIENTOS[movimiento])\n",
        "\n",
        "        # Verificar si la posición es nueva\n",
        "        if pos not in camino:\n",
        "            camino.append(pos)\n",
        "\n",
        "    # 1. Número de posiciones únicas visitadas (maximizar)\n",
        "    num_posiciones_unicas = len(camino) - 1 #se resta uno por la posicion de inicio\n",
        "\n",
        "    return num_posiciones_unicas,"
      ],
      "metadata": {
        "id": "4idXQ0PpV3uu"
      },
      "execution_count": null,
      "outputs": []
    },
    {
      "cell_type": "code",
      "source": [
        "MOVIMIENTOS = [(0, 1), (0, -1), (-1, 0), (1, 0)]\n",
        "\n",
        "# Crear la estructura del algoritmo genético\n",
        "creator.create(\"FitnessMax\", base.Fitness, weights=(1.0,))  # Minimizar la distancia\n",
        "creator.create(\"Individual\", list, fitness=creator.FitnessMax)\n",
        "\n",
        "toolbox = base.Toolbox()\n",
        "toolbox.register(\"attr_move\", random.randint, 0, len(MOVIMIENTOS)-1)\n",
        "toolbox.register(\"individual\", tools.initRepeat, creator.Individual, toolbox.attr_move, n=2000)  # 50 movimientos\n",
        "toolbox.register(\"population\", tools.initRepeat, list, toolbox.individual)\n",
        "\n",
        "toolbox.register(\"mate\", tools.cxTwoPoint)\n",
        "toolbox.register(\"mutate\", tools.mutShuffleIndexes, indpb=0.3)\n",
        "toolbox.register(\"select\", tools.selTournament, tournsize=3)\n",
        "toolbox.register(\"evaluate\", evaluar_individuo)"
      ],
      "metadata": {
        "id": "wORYSOceS2cN"
      },
      "execution_count": null,
      "outputs": []
    },
    {
      "cell_type": "code",
      "source": [
        "from deap import tools\n",
        "# Variables para el registro de la evolución\n",
        "stats = tools.Statistics(key=lambda ind: ind.fitness.values)\n",
        "stats.register(\"max\", np.max)\n",
        "stats.register(\"avg\", np.mean)\n",
        "\n",
        "logbook = tools.Logbook()\n",
        "\n",
        "# Crear la población inicial\n",
        "pop = toolbox.population(n=800)  # 100 individuos\n",
        "\n",
        "# Ejecutar el algoritmo genético\n",
        "resultados, logbook = algorithms.eaSimple(pop, toolbox, cxpb=0.5, mutpb=0.2, ngen=50,stats=stats, verbose=True)\n",
        "\n",
        "# Encontrar el mejor individuo\n",
        "mejor_individuo = tools.selBest(pop, 1)#[0]\n",
        "mostrar_ruta_pasos(mejor_individuo, laberinto=laberinto, inicio=inicio, salida=salida, grid=True)"
      ],
      "metadata": {
        "id": "u6chOMMXTC92"
      },
      "execution_count": null,
      "outputs": []
    },
    {
      "cell_type": "markdown",
      "source": [
        "![image.png](data:image/png;base64,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)"
      ],
      "metadata": {
        "id": "lc81PMO7Y5e9"
      }
    },
    {
      "cell_type": "code",
      "source": [
        "# Extraer las estadísticas de cada generación\n",
        "generaciones = logbook.select(\"gen\")\n",
        "minimos = logbook.select(\"min\")\n",
        "promedios = logbook.select(\"avg\")\n",
        "\n",
        "# Graficar la evolución\n",
        "import matplotlib.pyplot as plt\n",
        "\n",
        "plt.plot(generaciones, minimos, label=\"Mejor aptitud\")\n",
        "plt.plot(generaciones, promedios, label=\"Aptitud promedio\", linestyle=\"--\")\n",
        "plt.xlabel(\"Generaciones\")\n",
        "plt.ylabel(\"Aptitud\")\n",
        "plt.title(\"Evolución del Algoritmo Genético\")\n",
        "plt.legend()\n",
        "plt.show()"
      ],
      "metadata": {
        "id": "Dt8a4RElScb4"
      },
      "execution_count": null,
      "outputs": []
    },
    {
      "cell_type": "markdown",
      "source": [
        "#Desarrollo del taller\n",
        "* Se implementó una estrategia ambiciosa buscando optimizar tres aspectos simultáneamente:\n",
        "Minimizar la distancia euclidiana entre la posición final del individuo y la salida del laberinto.\n",
        "Maximizar la distancia euclidiana entre la posición final del individuo y el punto de inicio del laberinto.\n",
        "Alcanzar el mayor valor posible en la coordenada Y dentro del laberinto.\n",
        "La función de aptitud fue diseñada para devolver una tupla con tres valores correspondientes a estos objetivos, y los pesos (weights) en la configuración de DEAP se ajustaron en consecuencia para indicar la dirección de optimización (minimizar o maximizar) para cada uno.\n",
        "* Esta estrategia resultó ser ineficiente en términos de tiempo de procesamiento debido a la complejidad de evaluar y comparar individuos basándose en tres objetivos.\n",
        "El problema más crítico fue el estancamiento de la población. Se observó que los individuos tendían a acumularse en las esquinas del laberinto, sin lograr explorar efectivamente el camino hacia la salida. Esto limitó severamente el progreso evolutivo y demostró que esta combinación de objetivos no era adecuada para resolver el laberinto de manera eficiente.\n",
        "* Se simplificó drásticamente la función de aptitud para enfocarse en un único objetivo: maximizar el valor de la coordenada Y de la posición final del individuo.\n",
        "La lógica detrás de esto era que, si el individuo lograba avanzar en la dirección Y, eventualmente podría acercarse a la fila donde se encuentra la salida (aunque la salida estaba en la fila 0 en el laberinto de 20x20 mencionado posteriormente, este objetivo podría haber sido relevante en un laberinto diferente o como una heurística inicial).\n",
        "* Este enfoque de maximizar Y mostró un avance más notorio en comparación con el intento multi-objetivo, indicando que la simplificación de la aptitud ayudó al algoritmo a hacer algún progreso.\n",
        "Sin embargo, no fue suficiente para garantizar la resolución completa del laberinto. Los individuos podían maximizar su posición en Y pero aún así quedarse atascados en paredes o áreas que no llevaban a la salida.\n",
        "* Se reorientó la estrategia de aptitud hacia la exploración. Inicialmente, se pensó en penalizar al individuo cada vez que visitaba una celda que ya había visitado durante su recorrido (evitando rutas repetitivas).\n",
        "Tras la implementación y análisis, se constató que penalizar las celdas visitadas era funcionalmente equivalente a maximizar la cantidad total de celdas nuevas visitadas por el individuo a lo largo de su ruta.\n",
        "Dada esta equivalencia, se simplificó la función de aptitud a contar y maximizar únicamente el número de posiciones únicas visitadas por la ruta generada por el individuo.\n",
        "* Con la estrategia de maximizar posiciones nuevas, se hizo evidente que la longitud de la secuencia de movimientos definidos para cada individuo era un factor limitante crucial.\n",
        "Aunque teóricamente el camino más corto en un laberinto de 20x20 podría requerir alrededor de 210 movimientos, el algoritmo genético con esta heurística de exploración requirió que cada individuo tuviera una capacidad de 2000 movimientos para poder encontrar una ruta que resolviera el laberinto. Longitudes menores no fueron suficientes.\n",
        "* Una vez establecida la longitud del individuo en 2000 movimientos, el algoritmo genético logró solucionar el laberinto de manera efectiva.\n",
        " * La convergencia hacia una solución se produjo relativamente rápido dentro del contexto del algoritmo genético: se necesitó solo 30 de las 50 generaciones configuradas y una población de 800 individuos por generación.\n",
        "* Se contrastaron estos resultados con un experimento previo que utilizó individuos de 1000 movimientos.\n",
        "Aunque este intento también utilizó poblaciones y generaciones elevadas (1000 individuos y 1000 generaciones), no logró resolver el laberinto. La mejor solución encontrada se quedó a aproximadamente 26 movimientos de alcanzar la salida. Esto reforzó la conclusión de que la longitud del individuo (2000 movimientos) fue determinante para la resolución con esta estrategia de aptitud.\n",
        "* Se intentaron configuraciones con parámetros aún mayores para ver si se podía mejorar la eficiencia o encontrar soluciones con menos movimientos: se probaron hasta 2500 generaciones con poblaciones de 2000 individuos.\n",
        "Sin embargo, el tiempo de ejecución de estas configuraciones se volvió prohibitivamente largo. El entorno de Google Colab a menudo se desconectaba debido a la inactividad antes de que el algoritmo pudiera completar un número significativo de generaciones, impidiendo la evaluación de estos escenarios a mayor escala y dejando sin respuesta si habrían conducido a soluciones diferentes o más eficientes.\n"
      ],
      "metadata": {
        "id": "_gzP8ispeqs9"
      }
    },
    {
      "cell_type": "markdown",
      "source": [
        "#Analisis y solucion de preguntas:\n",
        "\n",
        "* ¿Cómo afecta el tamaño de la población?\n",
        "  *  Como pudimos ver a lo largo del taller,  a mayor poblacion el espacio de busqueda tiende a ser más exaustivo dando mejores resultados, sin embargo asi mismo tambien genera más calculos por lo que necesita de más procesamiento y en consecuencia tiempo de computo.\n",
        "  Esto se pudo ver en el comando pop = toolbox.population(n=100) donde se provaron con diferentes cantidasdes que estuvieron entre 100 y 2500. En conclusion, es mejor tener poblaciones más grandes segun que tan complejo sea el problema y el costo computacional que este dispuesto a darsele.\n",
        "  \n",
        "  \n",
        "  "
      ],
      "metadata": {
        "id": "3hkvFIpDTwQT"
      }
    },
    {
      "cell_type": "markdown",
      "source": [
        "* ¿Cómo afecta la cantidad de generaciones?\n",
        "  * La cantidad de generaciones define cuántas veces se itera el ciclo de selección, cruce y mutación sobre la población. Cada generación representa un paso en la \"evolución\" de la población, donde se busca que los individuos se acerquen progresivamente a la solución óptima, ya sea minimizando o maximizando la función de aptitud.\n",
        "  \n",
        "  * Sin embargo, es importante destacar que a medida que la población se acerca a una solución óptima, la tasa de mejora tiende a disminuir. Eventualmente, la aptitud puede estancarse, lo que significa que las nuevas generaciones no producen individuos significativamente mejores. En este punto, continuar aumentando el número de generaciones podría considerarse un desperdicio de recursos computacionales, ya que las mejoras obtenidas son marginales.\n",
        "\n",
        "  * En el taller, se experimentó con diferentes valores para la cantidad de generaciones, llegando incluso a 2500. Se observó que, en algunos casos, la aptitud se estancaba después de un cierto número de generaciones, confirmando la importancia de encontrar un equilibrio entre la exploración del espacio de búsqueda y el uso eficiente de los recursos."
      ],
      "metadata": {
        "id": "cvV196VfWHuT"
      }
    },
    {
      "cell_type": "markdown",
      "source": [
        "* ¿Cómo afectan el cruce y las mutaciones?\n",
        "  * Las mutaciones al introducir pequeños cambios aleatorios en los individuos de la población, mostor que las mutaciones permitían mejorar gradualmente la aptitud de las generaciones. Sin embargo, mutaciones con una probabilidad muy alta podrían generar individuos con un peor desempeño. Por lo tanto, se optó por utilizar una probabilidad de mutación del 0.1, buscando un equilibrio entre la exploración y la preservación de las buenas soluciones.\n",
        "  * El  cruce combina la información genética de dos individuos para crear descendencia. La elección del método de cruce impacta significativamente en el rendimiento del algoritmo.\n",
        "  *En el taller, se observó que el tipo de función de aptitud influía en la efectividad del cruce. Finalmente, se obtuvo un mejor resultado utilizando una función uniobjetivo que priorizaba la exploración de nuevas posiciones en el laberinto y se seleccionaran los 3 mejores individuos para pasar sus genes, lo que condujo a la solución. Este enfoque permitió explotar la capacidad del cruce para combinar soluciones parciales y generar individuos con un mayor recorrido, acercándose a la solución óptima.\n",
        "\n",
        "* ¿Qué observa sobre la eficiencia del algoritmo genético?\n",
        "  * Al aumentar el tamaño de la población y la cantidad de generaciones, el tiempo de procesamiento crecía considerablemente. Esto demuestra que, si bien una mayor exploración del espacio de búsqueda puede mejorar la calidad de la solución, también puede resultar en un costo computacional significativo. Por lo tanto, es crucial encontrar un equilibrio entre la exhaustividad de la búsqueda y la eficiencia del algoritmo, ajustando los parámetros para lograr un tiempo de ejecución razonable.\n",
        "  * En el taller, se noto que  la eficiencia del algoritmo genético depende de varias cosas, como el tamaño de la población, el número de generaciones, la probabilidad de mutación y el tipo de cruce que se usa. Más individuos y generaciones = más tiempo. Esto pasa porque tiene que analizar muchas opciones, y eso toma tiempo.\n",
        "  * No existe una configuración que funcione perfecto para todos los problemas. Se noto que la forma en que se cruzan los individuos y la probabilidad de mutación influyen mucho en el resultado.\n",
        "  * La velocidad con la que el algoritmo encuentra una solución aceptable también es un indicador de su eficiencia. Se observó que, en algunos casos, el algoritmo convergía rápidamente a una solución, mientras que en otros requería más generaciones para alcanzar un resultado satisfactorio. La complejidad del problema, la función de aptitud utilizada y la configuración del algoritmo influyen en la velocidad de convergencia.\n",
        "  \n",
        "\n"
      ],
      "metadata": {
        "id": "Z_eoaaONYYlf"
      }
    }
  ]
}